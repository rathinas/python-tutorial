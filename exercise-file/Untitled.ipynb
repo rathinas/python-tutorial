{
 "cells": [
  {
   "cell_type": "code",
   "execution_count": 1,
   "id": "7ddf9e07-65a5-427d-8975-e510bcdf01f8",
   "metadata": {},
   "outputs": [],
   "source": [
    "name = 'Thamotharan '"
   ]
  },
  {
   "cell_type": "code",
   "execution_count": 2,
   "id": "8b44e136-f073-40c8-8100-685ac5d490d1",
   "metadata": {},
   "outputs": [
    {
     "name": "stdout",
     "output_type": "stream",
     "text": [
      "Thamotharan\n"
     ]
    }
   ],
   "source": [
    "print(name)"
   ]
  },
  {
   "cell_type": "code",
   "execution_count": 7,
   "id": "36560396-6133-4ea3-a4ea-06a648575f44",
   "metadata": {},
   "outputs": [
    {
     "name": "stdout",
     "output_type": "stream",
     "text": [
      "[3, 4, 5, 1, 2, 3, ['a', 'b', 'c'], ['+', '-', '*', '/', '%']]\n"
     ]
    }
   ],
   "source": [
    "list = [3,4,5,1,2,3,\n",
    "       ['a','b','c'],\n",
    "       ['+','-','*','/','%']\n",
    "       ]\n",
    "print(list)"
   ]
  },
  {
   "cell_type": "code",
   "execution_count": 4,
   "id": "7857693b-e94b-4336-89ff-52358d9dfae0",
   "metadata": {},
   "outputs": [
    {
     "name": "stdout",
     "output_type": "stream",
     "text": [
      "{1, 2, 3}\n"
     ]
    }
   ],
   "source": [
    "set = {1,2,1,1,3,2}\n",
    "print(set)"
   ]
  },
  {
   "cell_type": "code",
   "execution_count": 5,
   "id": "63bbe9de-e076-45a0-a288-b0d478eb3612",
   "metadata": {},
   "outputs": [
    {
     "name": "stdout",
     "output_type": "stream",
     "text": [
      "(1, 2, 3, 1, 2, 3, 4, 5, 6)\n"
     ]
    }
   ],
   "source": [
    "tuples = (1,2,3,1,2,3,4,5,6)\n",
    "print(tuples)"
   ]
  },
  {
   "cell_type": "code",
   "execution_count": 6,
   "id": "000a0a9c-8414-4f57-96eb-1bd6ccabfacf",
   "metadata": {},
   "outputs": [
    {
     "name": "stdout",
     "output_type": "stream",
     "text": [
      "second letter\n"
     ]
    }
   ],
   "source": [
    "dictionaries = {\n",
    "    'a':'first letter',\n",
    "    'b':'second letter',\n",
    "    'c':'third letter'\n",
    "}\n",
    "print(dictionaries['b'])"
   ]
  },
  {
   "cell_type": "code",
   "execution_count": 9,
   "id": "9d4fc2c4-13e8-4edb-a6fe-fc85ce95928b",
   "metadata": {},
   "outputs": [
    {
     "data": {
      "text/plain": [
       "' my test my test my test my test my test my test my test my test my test'"
      ]
     },
     "execution_count": 9,
     "metadata": {},
     "output_type": "execute_result"
    }
   ],
   "source": [
    "' my test' * 9"
   ]
  },
  {
   "cell_type": "code",
   "execution_count": 10,
   "id": "81ebad0c-1cf6-4b8a-9626-5be61351d6eb",
   "metadata": {},
   "outputs": [
    {
     "data": {
      "text/plain": [
       "'super cold  drink of power '"
      ]
     },
     "execution_count": 10,
     "metadata": {},
     "output_type": "execute_result"
    }
   ],
   "source": [
    "'super cold '+' drink of power '"
   ]
  },
  {
   "cell_type": "code",
   "execution_count": 11,
   "id": "26e21fb2-7e28-408d-a39d-9c714e88d0df",
   "metadata": {},
   "outputs": [
    {
     "data": {
      "text/plain": [
       "'testing 100'"
      ]
     },
     "execution_count": 11,
     "metadata": {},
     "output_type": "execute_result"
    }
   ],
   "source": [
    "'testing '+'100'"
   ]
  },
  {
   "cell_type": "code",
   "execution_count": 12,
   "id": "389b8f9f-1e85-4315-8d44-980796014536",
   "metadata": {},
   "outputs": [
    {
     "data": {
      "text/plain": [
       "False"
      ]
     },
     "execution_count": 12,
     "metadata": {},
     "output_type": "execute_result"
    }
   ],
   "source": [
    "1 in [2,3,4,5]"
   ]
  },
  {
   "cell_type": "code",
   "execution_count": 13,
   "id": "240e30f0-d460-41af-97aa-d602d52268eb",
   "metadata": {},
   "outputs": [
    {
     "data": {
      "text/plain": [
       "False"
      ]
     },
     "execution_count": 13,
     "metadata": {},
     "output_type": "execute_result"
    }
   ],
   "source": [
    "2 not in [2,3,4,5]"
   ]
  },
  {
   "cell_type": "code",
   "execution_count": 14,
   "id": "d5235773-0e43-418f-b660-e474c442c37d",
   "metadata": {},
   "outputs": [
    {
     "data": {
      "text/plain": [
       "True"
      ]
     },
     "execution_count": 14,
     "metadata": {},
     "output_type": "execute_result"
    }
   ],
   "source": [
    "1 in [7,6,8,1]"
   ]
  },
  {
   "cell_type": "code",
   "execution_count": 15,
   "id": "4197f8a4-8779-4ee3-aa6f-49cb3dfbccc9",
   "metadata": {},
   "outputs": [
    {
     "data": {
      "text/plain": [
       "False"
      ]
     },
     "execution_count": 15,
     "metadata": {},
     "output_type": "execute_result"
    }
   ],
   "source": [
    "5>6"
   ]
  },
  {
   "cell_type": "code",
   "execution_count": 16,
   "id": "482b6608-f918-4fd5-b565-6c2e3dab0f40",
   "metadata": {},
   "outputs": [
    {
     "data": {
      "text/plain": [
       "False"
      ]
     },
     "execution_count": 16,
     "metadata": {},
     "output_type": "execute_result"
    }
   ],
   "source": [
    "9<4"
   ]
  },
  {
   "cell_type": "code",
   "execution_count": 17,
   "id": "fc9b59ab-4965-4a76-9889-ed88039337d5",
   "metadata": {},
   "outputs": [
    {
     "data": {
      "text/plain": [
       "True"
      ]
     },
     "execution_count": 17,
     "metadata": {},
     "output_type": "execute_result"
    }
   ],
   "source": [
    "1>0"
   ]
  },
  {
   "cell_type": "code",
   "execution_count": 18,
   "id": "0e763284-6e3b-4f6d-9c92-32385d2892eb",
   "metadata": {},
   "outputs": [
    {
     "ename": "TypeError",
     "evalue": "'>' not supported between instances of 'int' and 'str'",
     "output_type": "error",
     "traceback": [
      "\u001b[0;31m---------------------------------------------------------------------------\u001b[0m",
      "\u001b[0;31mTypeError\u001b[0m                                 Traceback (most recent call last)",
      "Cell \u001b[0;32mIn[18], line 1\u001b[0m\n\u001b[0;32m----> 1\u001b[0m \u001b[38;5;241;43m1\u001b[39;49m\u001b[38;5;241;43m>\u001b[39;49m\u001b[38;5;124;43m'\u001b[39;49m\u001b[38;5;124;43m0\u001b[39;49m\u001b[38;5;124;43m'\u001b[39;49m\n",
      "\u001b[0;31mTypeError\u001b[0m: '>' not supported between instances of 'int' and 'str'"
     ]
    }
   ],
   "source": [
    "1>'0'"
   ]
  },
  {
   "cell_type": "code",
   "execution_count": null,
   "id": "8421d398-fa23-4e20-ae4c-5a7e27d55a33",
   "metadata": {},
   "outputs": [],
   "source": []
  }
 ],
 "metadata": {
  "kernelspec": {
   "display_name": "Python 3 (ipykernel)",
   "language": "python",
   "name": "python3"
  },
  "language_info": {
   "codemirror_mode": {
    "name": "ipython",
    "version": 3
   },
   "file_extension": ".py",
   "mimetype": "text/x-python",
   "name": "python",
   "nbconvert_exporter": "python",
   "pygments_lexer": "ipython3",
   "version": "3.12.4"
  }
 },
 "nbformat": 4,
 "nbformat_minor": 5
}
