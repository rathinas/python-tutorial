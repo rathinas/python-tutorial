{
 "cells": [
  {
   "cell_type": "markdown",
   "id": "62dc901a-ecd2-485c-9d3c-847e1315b9ea",
   "metadata": {},
   "source": [
    "### Control Statements Samples"
   ]
  },
  {
   "cell_type": "markdown",
   "id": "82915cfd-fd04-49ca-8c8b-91f1da31200b",
   "metadata": {},
   "source": [
    "#### if / esle statements"
   ]
  },
  {
   "cell_type": "code",
   "execution_count": 1,
   "id": "20a15e58-42d3-45b0-82a9-9951797619bb",
   "metadata": {},
   "outputs": [
    {
     "name": "stdout",
     "output_type": "stream",
     "text": [
      "its true\n"
     ]
    }
   ],
   "source": [
    "a = True\n",
    "if a:\n",
    "    print('its true')"
   ]
  },
  {
   "cell_type": "code",
   "execution_count": 4,
   "id": "e39c8882-1224-46a4-b9f1-2afae52a3f95",
   "metadata": {},
   "outputs": [
    {
     "name": "stdout",
     "output_type": "stream",
     "text": [
      "super nova\n",
      "nice shirt\n"
     ]
    }
   ],
   "source": [
    "a = False\n",
    "if a:\n",
    "    print('This is valid data')\n",
    "else:\n",
    "    print('super nova')\n",
    "\n",
    "print('nice shirt')"
   ]
  },
  {
   "cell_type": "markdown",
   "id": "1297edb3-9542-4076-8527-e19f89f2ea8d",
   "metadata": {},
   "source": [
    "#### For Loops"
   ]
  },
  {
   "cell_type": "code",
   "execution_count": 6,
   "id": "be650f4b-00b8-439a-997b-6e4b144a4d0f",
   "metadata": {},
   "outputs": [
    {
     "name": "stdout",
     "output_type": "stream",
     "text": [
      "1\n",
      "2\n",
      "3\n",
      "4\n",
      "5\n"
     ]
    }
   ],
   "source": [
    "a = [1,2,3,4,5]\n",
    "for number in a:\n",
    "    print(number)"
   ]
  },
  {
   "cell_type": "code",
   "execution_count": 9,
   "id": "0ff7f024-1817-4af3-a74e-2ac26db52e08",
   "metadata": {},
   "outputs": [
    {
     "name": "stdout",
     "output_type": "stream",
     "text": [
      "1\n",
      "2\n",
      "3\n",
      "4\n",
      "5\n"
     ]
    }
   ],
   "source": [
    "b = (1,2,3,4,5)\n",
    "for number in b:\n",
    "    print(number)"
   ]
  },
  {
   "cell_type": "code",
   "execution_count": 10,
   "id": "5ae17a39-e67c-412e-a1c6-dbe7001ceba0",
   "metadata": {},
   "outputs": [
    {
     "name": "stdout",
     "output_type": "stream",
     "text": [
      "1\n",
      "2\n",
      "3\n",
      "4\n",
      "5\n"
     ]
    }
   ],
   "source": [
    "c = {1,2,3,4,5}\n",
    "for number in c:\n",
    "    print(number)"
   ]
  },
  {
   "cell_type": "code",
   "execution_count": 11,
   "id": "2d06f44a-f22e-4412-96df-bdaa1a98edb6",
   "metadata": {},
   "outputs": [
    {
     "name": "stdout",
     "output_type": "stream",
     "text": [
      "1\n",
      "2\n"
     ]
    }
   ],
   "source": [
    "d = {'1':'super one','2':'super two'}\n",
    "for data in d:\n",
    "    print(data)"
   ]
  },
  {
   "cell_type": "markdown",
   "id": "57bda216-8b22-496e-87c3-4253a1338405",
   "metadata": {},
   "source": [
    "#### While Loops"
   ]
  },
  {
   "cell_type": "code",
   "execution_count": 12,
   "id": "105723a3-f076-42db-b531-d00b0151646d",
   "metadata": {},
   "outputs": [
    {
     "name": "stdout",
     "output_type": "stream",
     "text": [
      "0\n",
      "1\n",
      "2\n",
      "3\n",
      "4\n"
     ]
    }
   ],
   "source": [
    "a = 0\n",
    "while a < 5:\n",
    "    print(a)\n",
    "    a = a+1"
   ]
  },
  {
   "cell_type": "code",
   "execution_count": null,
   "id": "2f7ed39a-e824-4f04-9826-430eecbddc15",
   "metadata": {},
   "outputs": [],
   "source": []
  }
 ],
 "metadata": {
  "kernelspec": {
   "display_name": "Python 3 (ipykernel)",
   "language": "python",
   "name": "python3"
  },
  "language_info": {
   "codemirror_mode": {
    "name": "ipython",
    "version": 3
   },
   "file_extension": ".py",
   "mimetype": "text/x-python",
   "name": "python",
   "nbconvert_exporter": "python",
   "pygments_lexer": "ipython3",
   "version": "3.12.4"
  }
 },
 "nbformat": 4,
 "nbformat_minor": 5
}
