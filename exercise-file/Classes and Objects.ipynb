{
 "cells": [
  {
   "cell_type": "markdown",
   "id": "c8ebc90d-5d0a-424b-b8dd-831ee8e70036",
   "metadata": {},
   "source": [
    "### Classes and Objects"
   ]
  },
  {
   "cell_type": "code",
   "execution_count": 4,
   "id": "e6a61a6e-c458-44b2-9636-91d9807bc23a",
   "metadata": {},
   "outputs": [
    {
     "name": "stdout",
     "output_type": "stream",
     "text": [
      "Sridevi is Married\n"
     ]
    }
   ],
   "source": [
    "class Love():\n",
    "    def __init__(self):\n",
    "        self.name = 'Sridevi';\n",
    "        self.married = True\n",
    "\n",
    "    def marriedStatus(self):\n",
    "        print(self.name + ' is Married')\n",
    "\n",
    "call = Love()\n",
    "call.marriedStatus()"
   ]
  },
  {
   "cell_type": "code",
   "execution_count": 7,
   "id": "5da2bfec-07ee-4349-ac8e-a5a5b69c4927",
   "metadata": {},
   "outputs": [
    {
     "name": "stdout",
     "output_type": "stream",
     "text": [
      "The Family name is Thamotharanand having 4 Members totally\n",
      "The Family name is Ajithand having 3 Members totally\n",
      "The Family name is Sababathiand having 9 Members totally\n",
      "The Family name is Maheswaranand having 9 Members totally\n"
     ]
    }
   ],
   "source": [
    "class Family():\n",
    "\n",
    "    def __init__(self, name, members):\n",
    "        self.name = name\n",
    "        self.members = members\n",
    "\n",
    "    def details(self):\n",
    "        print('The Family name is ' + self.name + 'and having ' + str(self.members) + ' Members totally' )\n",
    "\n",
    "objFam = Family('Thamotharan', 4)\n",
    "objFam.details()\n",
    "\n",
    "objFam2 = Family('Ajith',3)\n",
    "objFam2.details()\n",
    "\n",
    "objFam3 = Family('Sababathi', 9)\n",
    "objFam3.details()\n",
    "\n",
    "objFam4 = Family('Maheswarans', 9)\n",
    "objFam4.details()"
   ]
  },
  {
   "cell_type": "code",
   "execution_count": null,
   "id": "eb67ecb7-8870-4d87-ad76-f7ef7c188f76",
   "metadata": {},
   "outputs": [],
   "source": []
  }
 ],
 "metadata": {
  "kernelspec": {
   "display_name": "Python 3 (ipykernel)",
   "language": "python",
   "name": "python3"
  },
  "language_info": {
   "codemirror_mode": {
    "name": "ipython",
    "version": 3
   },
   "file_extension": ".py",
   "mimetype": "text/x-python",
   "name": "python",
   "nbconvert_exporter": "python",
   "pygments_lexer": "ipython3",
   "version": "3.12.4"
  }
 },
 "nbformat": 4,
 "nbformat_minor": 5
}
