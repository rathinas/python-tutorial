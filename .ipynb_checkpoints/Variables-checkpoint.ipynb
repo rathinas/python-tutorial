{
 "cells": [
  {
   "cell_type": "code",
   "execution_count": 17,
   "id": "1321e62f-d3a4-49dd-9988-ec46c5d0a195",
   "metadata": {},
   "outputs": [],
   "source": [
    "x=5"
   ]
  },
  {
   "cell_type": "code",
   "execution_count": 18,
   "id": "5e74a49e-f9f0-4983-b27c-5ec587a6159b",
   "metadata": {},
   "outputs": [],
   "source": [
    "name = 'Thamotharan'"
   ]
  },
  {
   "cell_type": "code",
   "execution_count": 19,
   "id": "cbaf4e02-5370-4b97-bc07-f0e9bed1a68e",
   "metadata": {},
   "outputs": [
    {
     "data": {
      "text/plain": [
       "'Thamotharan'"
      ]
     },
     "execution_count": 19,
     "metadata": {},
     "output_type": "execute_result"
    }
   ],
   "source": [
    "name"
   ]
  },
  {
   "cell_type": "code",
   "execution_count": 20,
   "id": "8d87d5f6-ab09-44cf-9e27-d30b08a9976b",
   "metadata": {},
   "outputs": [
    {
     "data": {
      "text/plain": [
       "5"
      ]
     },
     "execution_count": 20,
     "metadata": {},
     "output_type": "execute_result"
    }
   ],
   "source": [
    "x"
   ]
  },
  {
   "cell_type": "code",
   "execution_count": 21,
   "id": "c4130c9e-286b-42f9-ac66-fc875f0871a4",
   "metadata": {},
   "outputs": [
    {
     "data": {
      "text/plain": [
       "str"
      ]
     },
     "execution_count": 21,
     "metadata": {},
     "output_type": "execute_result"
    }
   ],
   "source": [
    "type(name)"
   ]
  },
  {
   "cell_type": "code",
   "execution_count": 22,
   "id": "89993765-4538-408d-8b61-077023f526b1",
   "metadata": {},
   "outputs": [
    {
     "data": {
      "text/plain": [
       "int"
      ]
     },
     "execution_count": 22,
     "metadata": {},
     "output_type": "execute_result"
    }
   ],
   "source": [
    "type(x)"
   ]
  },
  {
   "cell_type": "code",
   "execution_count": 23,
   "id": "53dd023d-d603-4218-84eb-f8b0bdf25fc8",
   "metadata": {},
   "outputs": [],
   "source": [
    "y = 1.25"
   ]
  },
  {
   "cell_type": "code",
   "execution_count": 24,
   "id": "80b66cda-c428-4228-893b-98f5e25800ba",
   "metadata": {},
   "outputs": [
    {
     "data": {
      "text/plain": [
       "float"
      ]
     },
     "execution_count": 24,
     "metadata": {},
     "output_type": "execute_result"
    }
   ],
   "source": [
    "type(y)"
   ]
  },
  {
   "cell_type": "code",
   "execution_count": 25,
   "id": "a0f615ee-45ba-431f-be1f-d29e3fd14e7e",
   "metadata": {},
   "outputs": [],
   "source": [
    "dob = '04/04/2015'"
   ]
  },
  {
   "cell_type": "code",
   "execution_count": 26,
   "id": "302128bc-e6c9-487d-9d88-ea5591389d58",
   "metadata": {},
   "outputs": [
    {
     "data": {
      "text/plain": [
       "str"
      ]
     },
     "execution_count": 26,
     "metadata": {},
     "output_type": "execute_result"
    }
   ],
   "source": [
    "type(dob)"
   ]
  },
  {
   "cell_type": "code",
   "execution_count": 27,
   "id": "b865c64b-b4b5-41f8-89f5-f421db184eca",
   "metadata": {},
   "outputs": [],
   "source": [
    "y=x"
   ]
  },
  {
   "cell_type": "code",
   "execution_count": 28,
   "id": "cd190e94-8e5e-4871-9269-5d68e28947d2",
   "metadata": {},
   "outputs": [
    {
     "data": {
      "text/plain": [
       "5"
      ]
     },
     "execution_count": 28,
     "metadata": {},
     "output_type": "execute_result"
    }
   ],
   "source": [
    "y"
   ]
  },
  {
   "cell_type": "code",
   "execution_count": 29,
   "id": "f6541080-32a1-4b41-a44c-529426295607",
   "metadata": {},
   "outputs": [],
   "source": [
    "x=name"
   ]
  },
  {
   "cell_type": "code",
   "execution_count": 30,
   "id": "04696e53-aaad-428d-8425-5aaf82cce55e",
   "metadata": {},
   "outputs": [
    {
     "data": {
      "text/plain": [
       "'Thamotharan'"
      ]
     },
     "execution_count": 30,
     "metadata": {},
     "output_type": "execute_result"
    }
   ],
   "source": [
    "x"
   ]
  },
  {
   "cell_type": "code",
   "execution_count": 31,
   "id": "47218586-ff98-4614-8aa4-c5dc875c1927",
   "metadata": {},
   "outputs": [
    {
     "data": {
      "text/plain": [
       "5"
      ]
     },
     "execution_count": 31,
     "metadata": {},
     "output_type": "execute_result"
    }
   ],
   "source": [
    "y"
   ]
  },
  {
   "cell_type": "code",
   "execution_count": 33,
   "id": "573a8d0b-9e55-495d-9dd5-9ac13f01355b",
   "metadata": {},
   "outputs": [
    {
     "ename": "SyntaxError",
     "evalue": "expected '(' (1831990683.py, line 1)",
     "output_type": "error",
     "traceback": [
      "\u001b[0;36m  Cell \u001b[0;32mIn[33], line 1\u001b[0;36m\u001b[0m\n\u001b[0;31m    def display\u001b[0m\n\u001b[0m               ^\u001b[0m\n\u001b[0;31mSyntaxError\u001b[0m\u001b[0;31m:\u001b[0m expected '('\n"
     ]
    }
   ],
   "source": [
    "def display\n",
    "print('func')\n"
   ]
  },
  {
   "cell_type": "code",
   "execution_count": null,
   "id": "7ddf9e07-65a5-427d-8975-e510bcdf01f8",
   "metadata": {},
   "outputs": [],
   "source": []
  }
 ],
 "metadata": {
  "kernelspec": {
   "display_name": "Python 3 (ipykernel)",
   "language": "python",
   "name": "python3"
  },
  "language_info": {
   "codemirror_mode": {
    "name": "ipython",
    "version": 3
   },
   "file_extension": ".py",
   "mimetype": "text/x-python",
   "name": "python",
   "nbconvert_exporter": "python",
   "pygments_lexer": "ipython3",
   "version": "3.12.4"
  }
 },
 "nbformat": 4,
 "nbformat_minor": 5
}
