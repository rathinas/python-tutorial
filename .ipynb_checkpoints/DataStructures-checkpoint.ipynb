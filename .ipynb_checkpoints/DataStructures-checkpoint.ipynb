{
 "cells": [
  {
   "cell_type": "markdown",
   "id": "d9c117b5-cdbb-4c29-abc0-9714352b6468",
   "metadata": {},
   "source": [
    "### List"
   ]
  },
  {
   "cell_type": "code",
   "execution_count": 8,
   "id": "291f0bd6-cfe2-434d-9d31-fefe74d09f03",
   "metadata": {},
   "outputs": [],
   "source": [
    "my_list = [1,2,3,4,5]"
   ]
  },
  {
   "cell_type": "code",
   "execution_count": 9,
   "id": "86d0b808-4c65-41f9-b677-f2a2abfa07b9",
   "metadata": {},
   "outputs": [
    {
     "name": "stdout",
     "output_type": "stream",
     "text": [
      "[1, 2, 3, 4, 5]\n"
     ]
    }
   ],
   "source": [
    "print(my_list)"
   ]
  },
  {
   "cell_type": "code",
   "execution_count": 10,
   "id": "2085f29d-6981-4472-941f-70767d5afc78",
   "metadata": {},
   "outputs": [],
   "source": [
    "name_list = ['Thamo', 'Sri', 'Guhan', 'Aditi' ]"
   ]
  },
  {
   "cell_type": "code",
   "execution_count": 11,
   "id": "6e787604-9030-4ca1-b227-bf2ef894e72f",
   "metadata": {
    "jupyter": {
     "source_hidden": true
    }
   },
   "outputs": [
    {
     "name": "stdout",
     "output_type": "stream",
     "text": [
      "['Thamo', 'Sri', 'Guhan', 'Aditi']\n"
     ]
    }
   ],
   "source": [
    "print(name_list)"
   ]
  },
  {
   "cell_type": "code",
   "execution_count": 12,
   "id": "494bc36b-2a31-497e-bf26-00bb70a8d335",
   "metadata": {},
   "outputs": [],
   "source": [
    "list = [[1,2,3,4],['Thamo','Sri','Guhan','Aditi'],[True, False, True],[1.213, 5.2,7]]"
   ]
  },
  {
   "cell_type": "code",
   "execution_count": 13,
   "id": "ed9f48ee-a495-4b75-bb4e-7cf061daf444",
   "metadata": {},
   "outputs": [
    {
     "data": {
      "text/plain": [
       "[[1, 2, 3, 4],\n",
       " ['Thamo', 'Sri', 'Guhan', 'Aditi'],\n",
       " [True, False, True],\n",
       " [1.213, 5.2, 7]]"
      ]
     },
     "execution_count": 13,
     "metadata": {},
     "output_type": "execute_result"
    }
   ],
   "source": [
    "list"
   ]
  },
  {
   "cell_type": "code",
   "execution_count": 14,
   "id": "c2ba50b8-4386-4ce2-8969-70c43f313054",
   "metadata": {},
   "outputs": [
    {
     "data": {
      "text/plain": [
       "4"
      ]
     },
     "execution_count": 14,
     "metadata": {},
     "output_type": "execute_result"
    }
   ],
   "source": [
    "len(list)"
   ]
  },
  {
   "cell_type": "markdown",
   "id": "b8a43178-556f-45d0-b980-53d19cd8c6df",
   "metadata": {},
   "source": [
    "### Sets"
   ]
  },
  {
   "cell_type": "code",
   "execution_count": 15,
   "id": "e8289aa6-aea8-4f55-a349-400c5d5a362b",
   "metadata": {},
   "outputs": [],
   "source": [
    "my_set = {1,2,1,1}"
   ]
  },
  {
   "cell_type": "code",
   "execution_count": 16,
   "id": "94946750-6760-42a0-9cb7-85ca65a22ce0",
   "metadata": {},
   "outputs": [
    {
     "name": "stdout",
     "output_type": "stream",
     "text": [
      "{1, 2}\n"
     ]
    }
   ],
   "source": [
    "print(my_set)"
   ]
  },
  {
   "cell_type": "code",
   "execution_count": 17,
   "id": "8e68f136-0776-4db3-9c23-425a511fda1d",
   "metadata": {},
   "outputs": [
    {
     "data": {
      "text/plain": [
       "True"
      ]
     },
     "execution_count": 17,
     "metadata": {},
     "output_type": "execute_result"
    }
   ],
   "source": [
    "{1,2} == {2,1}"
   ]
  },
  {
   "cell_type": "code",
   "execution_count": 18,
   "id": "ec1ad2d4-3f58-4024-8f5c-46ed20c35156",
   "metadata": {},
   "outputs": [
    {
     "data": {
      "text/plain": [
       "True"
      ]
     },
     "execution_count": 18,
     "metadata": {},
     "output_type": "execute_result"
    }
   ],
   "source": [
    "{1,2} == {1,2,1,1}"
   ]
  },
  {
   "cell_type": "code",
   "execution_count": 21,
   "id": "01f30797-27d4-46ca-a731-bfdb41d4f46d",
   "metadata": {},
   "outputs": [
    {
     "ename": "TypeError",
     "evalue": "unhashable type: 'set'",
     "output_type": "error",
     "traceback": [
      "\u001b[0;31m---------------------------------------------------------------------------\u001b[0m",
      "\u001b[0;31mTypeError\u001b[0m                                 Traceback (most recent call last)",
      "Cell \u001b[0;32mIn[21], line 1\u001b[0m\n\u001b[0;32m----> 1\u001b[0m my_set \u001b[38;5;241m=\u001b[39m {{\u001b[38;5;241m3\u001b[39m,\u001b[38;5;241m2\u001b[39m,\u001b[38;5;241m1\u001b[39m},{\u001b[38;5;241m3\u001b[39m,\u001b[38;5;241m4\u001b[39m,\u001b[38;5;241m5\u001b[39m}}\n",
      "\u001b[0;31mTypeError\u001b[0m: unhashable type: 'set'"
     ]
    }
   ],
   "source": [
    "my_set = {{3,2,1},{3,4,5}}"
   ]
  },
  {
   "cell_type": "code",
   "execution_count": 35,
   "id": "c69e5e8b-ddf1-4b76-b615-1c727f92f56c",
   "metadata": {},
   "outputs": [
    {
     "data": {
      "text/plain": [
       "2"
      ]
     },
     "execution_count": 35,
     "metadata": {},
     "output_type": "execute_result"
    }
   ],
   "source": [
    "len(my_set)"
   ]
  },
  {
   "cell_type": "markdown",
   "id": "157c0bc7-fb8f-48ee-bb97-78978cd0751a",
   "metadata": {},
   "source": [
    "### Tuples"
   ]
  },
  {
   "cell_type": "code",
   "execution_count": 22,
   "id": "0913e60a-3a56-4006-8f52-f8a336bd1a0c",
   "metadata": {},
   "outputs": [],
   "source": [
    "my_tuple = (1,2,3)"
   ]
  },
  {
   "cell_type": "code",
   "execution_count": 23,
   "id": "2a65e8b0-5395-4d55-a4d5-ba797682f918",
   "metadata": {},
   "outputs": [
    {
     "data": {
      "text/plain": [
       "3"
      ]
     },
     "execution_count": 23,
     "metadata": {},
     "output_type": "execute_result"
    }
   ],
   "source": [
    "len(my_tuple)"
   ]
  },
  {
   "cell_type": "code",
   "execution_count": 24,
   "id": "7baf8177-f9e7-4095-97df-cbb11b1e78e8",
   "metadata": {},
   "outputs": [
    {
     "data": {
      "text/plain": [
       "False"
      ]
     },
     "execution_count": 24,
     "metadata": {},
     "output_type": "execute_result"
    }
   ],
   "source": [
    "(1,2,3) == (2,3,1)"
   ]
  },
  {
   "cell_type": "code",
   "execution_count": 25,
   "id": "2b7ab3ee-5caa-4dae-a174-017222687128",
   "metadata": {},
   "outputs": [
    {
     "data": {
      "text/plain": [
       "True"
      ]
     },
     "execution_count": 25,
     "metadata": {},
     "output_type": "execute_result"
    }
   ],
   "source": [
    "(1,2,3) == (1,2,3)"
   ]
  },
  {
   "cell_type": "code",
   "execution_count": 26,
   "id": "75664c21-b59b-48ae-a71d-40f57c58961f",
   "metadata": {},
   "outputs": [],
   "source": [
    "my_tuple = (1,2,3,1,2,4,5)"
   ]
  },
  {
   "cell_type": "code",
   "execution_count": 27,
   "id": "9b82cd8d-df16-4a88-ae9b-8a1a4333303c",
   "metadata": {},
   "outputs": [
    {
     "name": "stdout",
     "output_type": "stream",
     "text": [
      "(1, 2, 3, 1, 2, 4, 5)\n"
     ]
    }
   ],
   "source": [
    "print(my_tuple)"
   ]
  },
  {
   "cell_type": "code",
   "execution_count": 34,
   "id": "59e9c42d-329e-45bf-bae8-326dec43964c",
   "metadata": {},
   "outputs": [
    {
     "data": {
      "text/plain": [
       "7"
      ]
     },
     "execution_count": 34,
     "metadata": {},
     "output_type": "execute_result"
    }
   ],
   "source": [
    "len(my_tuple)"
   ]
  },
  {
   "cell_type": "markdown",
   "id": "45909b70-1ef8-405c-b516-019aa912d007",
   "metadata": {},
   "source": [
    "### Dictionaries"
   ]
  },
  {
   "cell_type": "code",
   "execution_count": 29,
   "id": "e41a22b4-817b-4be8-b2f5-678942860187",
   "metadata": {},
   "outputs": [],
   "source": [
    "my_dic = {\n",
    "    '1' : 'One',\n",
    "    '2' : 'Two',\n",
    "    '1' : 'Aak'\n",
    "}"
   ]
  },
  {
   "cell_type": "code",
   "execution_count": 30,
   "id": "27047f0d-2941-44b2-bf17-ee0b5eb72b3f",
   "metadata": {},
   "outputs": [
    {
     "name": "stdout",
     "output_type": "stream",
     "text": [
      "{'1': 'Aak', '2': 'Two'}\n"
     ]
    }
   ],
   "source": [
    "print(my_dic)"
   ]
  },
  {
   "cell_type": "code",
   "execution_count": 32,
   "id": "55a29edc-9d20-49b0-89a8-4b08cd95ad0a",
   "metadata": {},
   "outputs": [
    {
     "name": "stdout",
     "output_type": "stream",
     "text": [
      "Aak\n"
     ]
    }
   ],
   "source": [
    "print(my_dic['1'])"
   ]
  },
  {
   "cell_type": "code",
   "execution_count": 33,
   "id": "d064f790-d9e4-4108-8bf4-99d8cc16ba95",
   "metadata": {},
   "outputs": [
    {
     "data": {
      "text/plain": [
       "2"
      ]
     },
     "execution_count": 33,
     "metadata": {},
     "output_type": "execute_result"
    }
   ],
   "source": [
    "len(my_dic)"
   ]
  },
  {
   "cell_type": "code",
   "execution_count": null,
   "id": "fe85df6a-c8ff-4fe9-b25f-a186dd05fcc0",
   "metadata": {},
   "outputs": [],
   "source": []
  },
  {
   "cell_type": "code",
   "execution_count": null,
   "id": "8594d086-f809-40c9-8545-8771c8f09728",
   "metadata": {},
   "outputs": [],
   "source": []
  }
 ],
 "metadata": {
  "kernelspec": {
   "display_name": "Python 3 (ipykernel)",
   "language": "python",
   "name": "python3"
  },
  "language_info": {
   "codemirror_mode": {
    "name": "ipython",
    "version": 3
   },
   "file_extension": ".py",
   "mimetype": "text/x-python",
   "name": "python",
   "nbconvert_exporter": "python",
   "pygments_lexer": "ipython3",
   "version": "3.12.4"
  }
 },
 "nbformat": 4,
 "nbformat_minor": 5
}
