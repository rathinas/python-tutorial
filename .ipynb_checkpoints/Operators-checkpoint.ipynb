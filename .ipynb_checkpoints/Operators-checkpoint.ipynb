{
 "cells": [
  {
   "cell_type": "markdown",
   "id": "02c01e7a-e6c5-42c5-9021-22a4b6c91df1",
   "metadata": {},
   "source": [
    "### Arithemetic Operators"
   ]
  },
  {
   "cell_type": "code",
   "execution_count": 1,
   "id": "cd242632-1757-44e6-aeaa-1c0d1dcd6bb3",
   "metadata": {},
   "outputs": [
    {
     "data": {
      "text/plain": [
       "2"
      ]
     },
     "execution_count": 1,
     "metadata": {},
     "output_type": "execute_result"
    }
   ],
   "source": [
    "1+1"
   ]
  },
  {
   "cell_type": "code",
   "execution_count": 2,
   "id": "8d81348a-3bde-452d-b00c-6b1a4eaa916f",
   "metadata": {},
   "outputs": [
    {
     "data": {
      "text/plain": [
       "4"
      ]
     },
     "execution_count": 2,
     "metadata": {},
     "output_type": "execute_result"
    }
   ],
   "source": [
    "2 * 2"
   ]
  },
  {
   "cell_type": "code",
   "execution_count": 4,
   "id": "d09adcd0-38b8-4730-8c6f-e679e48d6253",
   "metadata": {},
   "outputs": [
    {
     "data": {
      "text/plain": [
       "16"
      ]
     },
     "execution_count": 4,
     "metadata": {},
     "output_type": "execute_result"
    }
   ],
   "source": [
    "2 ** 4 # ** -> Refers Squaretroot value"
   ]
  },
  {
   "cell_type": "code",
   "execution_count": null,
   "id": "655bd09d-2221-4060-868f-487068bc7bf0",
   "metadata": {},
   "outputs": [],
   "source": [
    "5"
   ]
  },
  {
   "cell_type": "code",
   "execution_count": 5,
   "id": "700a565e-737d-4d2e-806b-7fd40c7dc28b",
   "metadata": {},
   "outputs": [
    {
     "data": {
      "text/plain": [
       "2.0"
      ]
     },
     "execution_count": 5,
     "metadata": {},
     "output_type": "execute_result"
    }
   ],
   "source": [
    "6/3"
   ]
  },
  {
   "cell_type": "code",
   "execution_count": 9,
   "id": "520ab1d9-41fd-4e2f-a857-3acff01c66cd",
   "metadata": {},
   "outputs": [
    {
     "data": {
      "text/plain": [
       "3.5"
      ]
     },
     "execution_count": 9,
     "metadata": {},
     "output_type": "execute_result"
    }
   ],
   "source": [
    "7/2  # Divide Operator return float / decimal value always"
   ]
  },
  {
   "cell_type": "code",
   "execution_count": 8,
   "id": "ce45af99-7892-4277-83b6-99b18a810206",
   "metadata": {},
   "outputs": [
    {
     "data": {
      "text/plain": [
       "1"
      ]
     },
     "execution_count": 8,
     "metadata": {},
     "output_type": "execute_result"
    }
   ],
   "source": [
    "10 % 3 # Modulo Operator"
   ]
  },
  {
   "cell_type": "markdown",
   "id": "22b799c1-ff4f-4715-a6eb-f1452da89d4f",
   "metadata": {},
   "source": [
    "### Arithemetic Operators with Strings"
   ]
  },
  {
   "cell_type": "code",
   "execution_count": 2,
   "id": "62932acc-cc1d-46f7-8d86-ad604e29e40f",
   "metadata": {},
   "outputs": [
    {
     "data": {
      "text/plain": [
       "'string1  string2'"
      ]
     },
     "execution_count": 2,
     "metadata": {},
     "output_type": "execute_result"
    }
   ],
   "source": [
    "'string1 ' + ' string2'"
   ]
  },
  {
   "cell_type": "code",
   "execution_count": 3,
   "id": "589f1fad-c26d-4e13-a3f7-29a8256f07f8",
   "metadata": {},
   "outputs": [
    {
     "data": {
      "text/plain": [
       "'- String1 - - String1 - - String1 - '"
      ]
     },
     "execution_count": 3,
     "metadata": {},
     "output_type": "execute_result"
    }
   ],
   "source": [
    "'- String1 - ' * 3"
   ]
  },
  {
   "cell_type": "code",
   "execution_count": 4,
   "id": "8285ca89-fad7-4bf9-b8f2-1a4e0289d0a5",
   "metadata": {},
   "outputs": [
    {
     "ename": "TypeError",
     "evalue": "can only concatenate str (not \"int\") to str",
     "output_type": "error",
     "traceback": [
      "\u001b[0;31m---------------------------------------------------------------------------\u001b[0m",
      "\u001b[0;31mTypeError\u001b[0m                                 Traceback (most recent call last)",
      "Cell \u001b[0;32mIn[4], line 1\u001b[0m\n\u001b[0;32m----> 1\u001b[0m \u001b[38;5;124;43m'\u001b[39;49m\u001b[38;5;124;43mstring\u001b[39;49m\u001b[38;5;124;43m'\u001b[39;49m\u001b[43m \u001b[49m\u001b[38;5;241;43m+\u001b[39;49m\u001b[38;5;241;43m1\u001b[39;49m\n",
      "\u001b[0;31mTypeError\u001b[0m: can only concatenate str (not \"int\") to str"
     ]
    }
   ],
   "source": [
    "'string' +1"
   ]
  },
  {
   "cell_type": "markdown",
   "id": "66001db9-12e2-4d8f-945a-6d601db847de",
   "metadata": {},
   "source": [
    "## Comparision, Logical and Membership Operators"
   ]
  },
  {
   "cell_type": "markdown",
   "id": "fa490f13-19bd-4941-91c0-1bbf8589677c",
   "metadata": {},
   "source": [
    "### Comparision"
   ]
  },
  {
   "cell_type": "code",
   "execution_count": 5,
   "id": "d3990815-2d5f-44df-9051-39915d00cbe9",
   "metadata": {},
   "outputs": [
    {
     "data": {
      "text/plain": [
       "True"
      ]
     },
     "execution_count": 5,
     "metadata": {},
     "output_type": "execute_result"
    }
   ],
   "source": [
    "True == True"
   ]
  },
  {
   "cell_type": "code",
   "execution_count": 6,
   "id": "00f2f12c-6095-4de2-8187-1ff77f6197cd",
   "metadata": {},
   "outputs": [
    {
     "data": {
      "text/plain": [
       "True"
      ]
     },
     "execution_count": 6,
     "metadata": {},
     "output_type": "execute_result"
    }
   ],
   "source": [
    "False == False"
   ]
  },
  {
   "cell_type": "code",
   "execution_count": 7,
   "id": "9de3a5ac-3e61-4d61-9ec4-e2700017e5a4",
   "metadata": {},
   "outputs": [
    {
     "data": {
      "text/plain": [
       "True"
      ]
     },
     "execution_count": 7,
     "metadata": {},
     "output_type": "execute_result"
    }
   ],
   "source": [
    "2>1"
   ]
  },
  {
   "cell_type": "code",
   "execution_count": 8,
   "id": "7f616049-ba25-4a9e-9175-9583f8bc76d9",
   "metadata": {},
   "outputs": [
    {
     "data": {
      "text/plain": [
       "True"
      ]
     },
     "execution_count": 8,
     "metadata": {},
     "output_type": "execute_result"
    }
   ],
   "source": [
    "3<5"
   ]
  },
  {
   "cell_type": "code",
   "execution_count": 9,
   "id": "2c50c754-aa3f-43ff-8963-05e00feec058",
   "metadata": {},
   "outputs": [
    {
     "data": {
      "text/plain": [
       "False"
      ]
     },
     "execution_count": 9,
     "metadata": {},
     "output_type": "execute_result"
    }
   ],
   "source": [
    "5>=10"
   ]
  },
  {
   "cell_type": "code",
   "execution_count": null,
   "id": "f47b5fdc-450e-455c-b65c-fb4902beeb76",
   "metadata": {},
   "outputs": [],
   "source": []
  },
  {
   "cell_type": "markdown",
   "id": "63ba6441-0562-4ac3-ad7e-f7126d03f86b",
   "metadata": {},
   "source": [
    "### Logical ( and, or , not )"
   ]
  },
  {
   "cell_type": "code",
   "execution_count": 10,
   "id": "4a999436-a43f-46c1-8730-e464a1ad2a5b",
   "metadata": {},
   "outputs": [
    {
     "data": {
      "text/plain": [
       "True"
      ]
     },
     "execution_count": 10,
     "metadata": {},
     "output_type": "execute_result"
    }
   ],
   "source": [
    "True and True"
   ]
  },
  {
   "cell_type": "code",
   "execution_count": 11,
   "id": "15eabf2e-2b93-4659-a6ef-8c9d4a44df5c",
   "metadata": {},
   "outputs": [
    {
     "data": {
      "text/plain": [
       "False"
      ]
     },
     "execution_count": 11,
     "metadata": {},
     "output_type": "execute_result"
    }
   ],
   "source": [
    "True and False"
   ]
  },
  {
   "cell_type": "code",
   "execution_count": 12,
   "id": "e762cb35-6e89-4344-8f87-f743abf6d8b0",
   "metadata": {
    "jupyter": {
     "source_hidden": true
    }
   },
   "outputs": [
    {
     "data": {
      "text/plain": [
       "True"
      ]
     },
     "execution_count": 12,
     "metadata": {},
     "output_type": "execute_result"
    }
   ],
   "source": [
    "True or False"
   ]
  },
  {
   "cell_type": "code",
   "execution_count": 13,
   "id": "7ca8fd9d-08f8-4204-9d7c-a57e730a563f",
   "metadata": {},
   "outputs": [
    {
     "data": {
      "text/plain": [
       "False"
      ]
     },
     "execution_count": 13,
     "metadata": {},
     "output_type": "execute_result"
    }
   ],
   "source": [
    "False or False"
   ]
  },
  {
   "cell_type": "code",
   "execution_count": 14,
   "id": "2ffde769-e036-4be4-8da7-4173b38c39b0",
   "metadata": {},
   "outputs": [
    {
     "data": {
      "text/plain": [
       "True"
      ]
     },
     "execution_count": 14,
     "metadata": {},
     "output_type": "execute_result"
    }
   ],
   "source": [
    "not False"
   ]
  },
  {
   "cell_type": "code",
   "execution_count": 15,
   "id": "0d20cb7a-d012-4e89-9370-492738e0d422",
   "metadata": {},
   "outputs": [
    {
     "data": {
      "text/plain": [
       "False"
      ]
     },
     "execution_count": 15,
     "metadata": {},
     "output_type": "execute_result"
    }
   ],
   "source": [
    "not True"
   ]
  },
  {
   "cell_type": "markdown",
   "id": "1a134a9d-b0bc-4e08-bac1-a44f480e5aad",
   "metadata": {},
   "source": [
    "### Membership Operators ( in, not in)"
   ]
  },
  {
   "cell_type": "code",
   "execution_count": 16,
   "id": "9d8b9f9c-6312-4628-aa44-9ab2a3bbabe6",
   "metadata": {},
   "outputs": [
    {
     "data": {
      "text/plain": [
       "True"
      ]
     },
     "execution_count": 16,
     "metadata": {},
     "output_type": "execute_result"
    }
   ],
   "source": [
    "1 in [1,2,23]"
   ]
  },
  {
   "cell_type": "code",
   "execution_count": 17,
   "id": "46d76001-7920-40e6-94a7-12f6b66dccf1",
   "metadata": {},
   "outputs": [
    {
     "data": {
      "text/plain": [
       "False"
      ]
     },
     "execution_count": 17,
     "metadata": {},
     "output_type": "execute_result"
    }
   ],
   "source": [
    "10 in {3,8}"
   ]
  },
  {
   "cell_type": "code",
   "execution_count": 18,
   "id": "aaccacec-8690-4d8a-addd-cfd8c5781fb2",
   "metadata": {},
   "outputs": [
    {
     "data": {
      "text/plain": [
       "False"
      ]
     },
     "execution_count": 18,
     "metadata": {},
     "output_type": "execute_result"
    }
   ],
   "source": [
    "99 not in (1,2,99)"
   ]
  },
  {
   "cell_type": "code",
   "execution_count": 21,
   "id": "9acc1475-22d1-49ec-b33c-873fb09d000a",
   "metadata": {},
   "outputs": [
    {
     "data": {
      "text/plain": [
       "True"
      ]
     },
     "execution_count": 21,
     "metadata": {},
     "output_type": "execute_result"
    }
   ],
   "source": [
    "100 not in (1,5,7)"
   ]
  },
  {
   "cell_type": "code",
   "execution_count": null,
   "id": "42f288ac-f2da-4f55-be3b-69323e81fd87",
   "metadata": {},
   "outputs": [],
   "source": []
  }
 ],
 "metadata": {
  "kernelspec": {
   "display_name": "Python 3 (ipykernel)",
   "language": "python",
   "name": "python3"
  },
  "language_info": {
   "codemirror_mode": {
    "name": "ipython",
    "version": 3
   },
   "file_extension": ".py",
   "mimetype": "text/x-python",
   "name": "python",
   "nbconvert_exporter": "python",
   "pygments_lexer": "ipython3",
   "version": "3.12.4"
  }
 },
 "nbformat": 4,
 "nbformat_minor": 5
}
