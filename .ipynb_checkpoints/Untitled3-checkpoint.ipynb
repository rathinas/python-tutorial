{
 "cells": [
  {
   "cell_type": "markdown",
   "id": "62dc901a-ecd2-485c-9d3c-847e1315b9ea",
   "metadata": {},
   "source": [
    "### Control Statements"
   ]
  },
  {
   "cell_type": "markdown",
   "id": "82915cfd-fd04-49ca-8c8b-91f1da31200b",
   "metadata": {},
   "source": [
    "#### if / esle"
   ]
  },
  {
   "cell_type": "code",
   "execution_count": 1,
   "id": "20a15e58-42d3-45b0-82a9-9951797619bb",
   "metadata": {},
   "outputs": [
    {
     "name": "stdout",
     "output_type": "stream",
     "text": [
      "its true\n"
     ]
    }
   ],
   "source": [
    "a = True\n",
    "if a:\n",
    "    print('its true')"
   ]
  },
  {
   "cell_type": "code",
   "execution_count": null,
   "id": "e39c8882-1224-46a4-b9f1-2afae52a3f95",
   "metadata": {},
   "outputs": [],
   "source": []
  },
  {
   "cell_type": "markdown",
   "id": "1297edb3-9542-4076-8527-e19f89f2ea8d",
   "metadata": {},
   "source": [
    "#### For Loops"
   ]
  },
  {
   "cell_type": "code",
   "execution_count": null,
   "id": "be650f4b-00b8-439a-997b-6e4b144a4d0f",
   "metadata": {},
   "outputs": [],
   "source": []
  },
  {
   "cell_type": "code",
   "execution_count": null,
   "id": "0ff7f024-1817-4af3-a74e-2ac26db52e08",
   "metadata": {},
   "outputs": [],
   "source": []
  },
  {
   "cell_type": "markdown",
   "id": "57bda216-8b22-496e-87c3-4253a1338405",
   "metadata": {},
   "source": [
    "#### While"
   ]
  },
  {
   "cell_type": "code",
   "execution_count": null,
   "id": "105723a3-f076-42db-b531-d00b0151646d",
   "metadata": {},
   "outputs": [],
   "source": []
  }
 ],
 "metadata": {
  "kernelspec": {
   "display_name": "Python 3 (ipykernel)",
   "language": "python",
   "name": "python3"
  },
  "language_info": {
   "codemirror_mode": {
    "name": "ipython",
    "version": 3
   },
   "file_extension": ".py",
   "mimetype": "text/x-python",
   "name": "python",
   "nbconvert_exporter": "python",
   "pygments_lexer": "ipython3",
   "version": "3.12.4"
  }
 },
 "nbformat": 4,
 "nbformat_minor": 5
}
