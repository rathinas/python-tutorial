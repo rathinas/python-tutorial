{
 "cells": [
  {
   "cell_type": "markdown",
   "id": "02c01e7a-e6c5-42c5-9021-22a4b6c91df1",
   "metadata": {},
   "source": [
    "### Arithemetic Operators"
   ]
  },
  {
   "cell_type": "code",
   "execution_count": 1,
   "id": "cd242632-1757-44e6-aeaa-1c0d1dcd6bb3",
   "metadata": {},
   "outputs": [
    {
     "data": {
      "text/plain": [
       "2"
      ]
     },
     "execution_count": 1,
     "metadata": {},
     "output_type": "execute_result"
    }
   ],
   "source": [
    "1+1"
   ]
  },
  {
   "cell_type": "code",
   "execution_count": 2,
   "id": "8d81348a-3bde-452d-b00c-6b1a4eaa916f",
   "metadata": {},
   "outputs": [
    {
     "data": {
      "text/plain": [
       "4"
      ]
     },
     "execution_count": 2,
     "metadata": {},
     "output_type": "execute_result"
    }
   ],
   "source": [
    "2 * 2"
   ]
  },
  {
   "cell_type": "code",
   "execution_count": 4,
   "id": "d09adcd0-38b8-4730-8c6f-e679e48d6253",
   "metadata": {},
   "outputs": [
    {
     "data": {
      "text/plain": [
       "16"
      ]
     },
     "execution_count": 4,
     "metadata": {},
     "output_type": "execute_result"
    }
   ],
   "source": [
    "2 ** 4 # ** -> Refers Squaretroot value"
   ]
  },
  {
   "cell_type": "code",
   "execution_count": null,
   "id": "655bd09d-2221-4060-868f-487068bc7bf0",
   "metadata": {},
   "outputs": [],
   "source": [
    "5"
   ]
  },
  {
   "cell_type": "code",
   "execution_count": 5,
   "id": "700a565e-737d-4d2e-806b-7fd40c7dc28b",
   "metadata": {},
   "outputs": [
    {
     "data": {
      "text/plain": [
       "2.0"
      ]
     },
     "execution_count": 5,
     "metadata": {},
     "output_type": "execute_result"
    }
   ],
   "source": [
    "6/3"
   ]
  },
  {
   "cell_type": "code",
   "execution_count": 9,
   "id": "520ab1d9-41fd-4e2f-a857-3acff01c66cd",
   "metadata": {},
   "outputs": [
    {
     "data": {
      "text/plain": [
       "3.5"
      ]
     },
     "execution_count": 9,
     "metadata": {},
     "output_type": "execute_result"
    }
   ],
   "source": [
    "7/2  # Divide Operator return float / decimal value always"
   ]
  },
  {
   "cell_type": "code",
   "execution_count": 8,
   "id": "ce45af99-7892-4277-83b6-99b18a810206",
   "metadata": {},
   "outputs": [
    {
     "data": {
      "text/plain": [
       "1"
      ]
     },
     "execution_count": 8,
     "metadata": {},
     "output_type": "execute_result"
    }
   ],
   "source": [
    "10 % 3 # Modulo Operator"
   ]
  },
  {
   "cell_type": "markdown",
   "id": "22b799c1-ff4f-4715-a6eb-f1452da89d4f",
   "metadata": {},
   "source": [
    "### Arithemetic Operators with Strings"
   ]
  },
  {
   "cell_type": "code",
   "execution_count": null,
   "id": "62932acc-cc1d-46f7-8d86-ad604e29e40f",
   "metadata": {},
   "outputs": [],
   "source": []
  },
  {
   "cell_type": "code",
   "execution_count": null,
   "id": "589f1fad-c26d-4e13-a3f7-29a8256f07f8",
   "metadata": {},
   "outputs": [],
   "source": []
  },
  {
   "cell_type": "markdown",
   "id": "66001db9-12e2-4d8f-945a-6d601db847de",
   "metadata": {},
   "source": [
    "## Comparision, Logical and Membership Operators"
   ]
  },
  {
   "cell_type": "markdown",
   "id": "fa490f13-19bd-4941-91c0-1bbf8589677c",
   "metadata": {},
   "source": [
    "### Comparision"
   ]
  },
  {
   "cell_type": "code",
   "execution_count": null,
   "id": "d3990815-2d5f-44df-9051-39915d00cbe9",
   "metadata": {},
   "outputs": [],
   "source": []
  },
  {
   "cell_type": "code",
   "execution_count": null,
   "id": "00f2f12c-6095-4de2-8187-1ff77f6197cd",
   "metadata": {},
   "outputs": [],
   "source": []
  },
  {
   "cell_type": "code",
   "execution_count": null,
   "id": "9de3a5ac-3e61-4d61-9ec4-e2700017e5a4",
   "metadata": {},
   "outputs": [],
   "source": []
  },
  {
   "cell_type": "markdown",
   "id": "63ba6441-0562-4ac3-ad7e-f7126d03f86b",
   "metadata": {},
   "source": [
    "### Logical"
   ]
  },
  {
   "cell_type": "code",
   "execution_count": null,
   "id": "4a999436-a43f-46c1-8730-e464a1ad2a5b",
   "metadata": {},
   "outputs": [],
   "source": []
  },
  {
   "cell_type": "code",
   "execution_count": null,
   "id": "15eabf2e-2b93-4659-a6ef-8c9d4a44df5c",
   "metadata": {},
   "outputs": [],
   "source": []
  },
  {
   "cell_type": "code",
   "execution_count": null,
   "id": "e762cb35-6e89-4344-8f87-f743abf6d8b0",
   "metadata": {},
   "outputs": [],
   "source": []
  },
  {
   "cell_type": "markdown",
   "id": "1a134a9d-b0bc-4e08-bac1-a44f480e5aad",
   "metadata": {},
   "source": [
    "### Membership Operators"
   ]
  },
  {
   "cell_type": "code",
   "execution_count": null,
   "id": "9d8b9f9c-6312-4628-aa44-9ab2a3bbabe6",
   "metadata": {},
   "outputs": [],
   "source": []
  },
  {
   "cell_type": "code",
   "execution_count": null,
   "id": "46d76001-7920-40e6-94a7-12f6b66dccf1",
   "metadata": {},
   "outputs": [],
   "source": []
  },
  {
   "cell_type": "code",
   "execution_count": null,
   "id": "aaccacec-8690-4d8a-addd-cfd8c5781fb2",
   "metadata": {},
   "outputs": [],
   "source": []
  },
  {
   "cell_type": "code",
   "execution_count": null,
   "id": "9acc1475-22d1-49ec-b33c-873fb09d000a",
   "metadata": {},
   "outputs": [],
   "source": []
  }
 ],
 "metadata": {
  "kernelspec": {
   "display_name": "Python 3 (ipykernel)",
   "language": "python",
   "name": "python3"
  },
  "language_info": {
   "codemirror_mode": {
    "name": "ipython",
    "version": 3
   },
   "file_extension": ".py",
   "mimetype": "text/x-python",
   "name": "python",
   "nbconvert_exporter": "python",
   "pygments_lexer": "ipython3",
   "version": "3.12.4"
  }
 },
 "nbformat": 4,
 "nbformat_minor": 5
}
